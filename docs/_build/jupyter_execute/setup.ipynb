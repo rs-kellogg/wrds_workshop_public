{
 "cells": [
  {
   "cell_type": "markdown",
   "metadata": {},
   "source": [
    "# <span style=\"color:purple\">Setup - Authenticate to WRDS</span>\n",
    "\n",
    "### <span style=\"color:purple\">Make a Hidden Credential File</span>"
   ]
  },
  {
   "cell_type": "markdown",
   "metadata": {},
   "source": [
    " In order to connect to **WRDS** remotely, you will first need to create a <span style=\"color:purple\">**.pgpass**</span> file.  You can place this file in your KLC home directory.  On KLC, navigate to your home directory.  From a terminal session, choose your preferred text editor to create a file, such as the nano editor demonstrated below."
   ]
  },
  {
   "cell_type": "code",
   "execution_count": null,
   "metadata": {},
   "outputs": [],
   "source": [
    "! nano ~/.pgpass"
   ]
  },
  {
   "cell_type": "markdown",
   "metadata": {
    "vscode": {
     "languageId": "raw"
    }
   },
   "source": [
    "Within this hidden pgpass file, save one line with your WRDS login credentials:"
   ]
  },
  {
   "cell_type": "markdown",
   "metadata": {},
   "source": [
    "`wrds-pgdata.wharton.upenn.edu:9737:wrds:user_name:password`\n",
    "\n",
    "You can view the contents of this file with: "
   ]
  },
  {
   "cell_type": "code",
   "execution_count": null,
   "metadata": {},
   "outputs": [
    {
     "name": "stdout",
     "output_type": "stream",
     "text": [
      "wrds-pgdata.wharton.upenn.edu:9737:wrds:best_user_ever:passwordy_goodness\n"
     ]
    }
   ],
   "source": [
    "# To view the contents of this file, you should actually type:\n",
    "! head ~/.pgpass"
   ]
  },
  {
   "cell_type": "markdown",
   "metadata": {},
   "source": [
    "After creating the `pgpass` file, you also need to restrict its permissions by running `chmod 600 ~/.pgpass`; this setting disallows access to the file by anyone other than you, ensuring that only your user account can read or modify it.\n"
   ]
  },
  {
   "cell_type": "code",
   "execution_count": 18,
   "metadata": {},
   "outputs": [],
   "source": [
    "# restrict file permissions\n",
    "!chmod 600 ~/.pgpass"
   ]
  },
  {
   "cell_type": "markdown",
   "metadata": {},
   "source": [
    "### <span style=\"color:purple\">Connect through Python</span>\n",
    "\n",
    "To connect to the **WRDS** API through Python, install the `wrds` package. From the command line, type:"
   ]
  },
  {
   "cell_type": "code",
   "execution_count": null,
   "metadata": {},
   "outputs": [],
   "source": [
    "# install the `wrds` package.\n",
    "! pip install wrds"
   ]
  },
  {
   "cell_type": "markdown",
   "metadata": {},
   "source": [
    "Next, import the `wrds` package in Python."
   ]
  },
  {
   "cell_type": "code",
   "execution_count": 20,
   "metadata": {},
   "outputs": [],
   "source": [
    "# packages\n",
    "import wrds\n",
    "import pandas as pd"
   ]
  },
  {
   "cell_type": "markdown",
   "metadata": {},
   "source": [
    "You can establish a connection with the **WRDS** server by inserting your username in the following Python command. If you have\n",
    "already created a .pgpass file, this line will look for the file that contains your username and corresponding password."
   ]
  },
  {
   "cell_type": "code",
   "execution_count": null,
   "metadata": {},
   "outputs": [
    {
     "name": "stdout",
     "output_type": "stream",
     "text": [
      "Loading library list...\n",
      "Done\n"
     ]
    }
   ],
   "source": [
    "conn = wrds.Connection(wrds_username='best-user-ever')\n",
    "#db = wrds.Connection()\n",
    "# AT THIS POINT, EXPECT A DUO PUSH"
   ]
  },
  {
   "cell_type": "markdown",
   "metadata": {},
   "source": [
    "Note that the first time you perform this step, it will trigger __two-factor-authentication__. Please follow the instructions here to set this up: https://wrds-www.wharton.upenn.edu/pages/about/log-in-to-wrds-using-two-factor-authentication/ \n",
    "\n",
    "\n",
    "You can test your connection with:\n"
   ]
  },
  {
   "cell_type": "code",
   "execution_count": null,
   "metadata": {},
   "outputs": [],
   "source": [
    "df = conn.get_table(library=\"crsp\", table=\"dsf\", obs=10)"
   ]
  },
  {
   "cell_type": "code",
   "execution_count": 5,
   "metadata": {},
   "outputs": [
    {
     "data": {
      "text/plain": [
       "Index(['permno', 'namedt', 'nameenddt', 'shrcd', 'exchcd', 'siccd', 'ncusip',\n",
       "       'ticker', 'comnam', 'shrcls', 'permco', 'hexcd', 'cusip', 'st_date',\n",
       "       'end_date', 'namedum'],\n",
       "      dtype='object')"
      ]
     },
     "execution_count": 5,
     "metadata": {},
     "output_type": "execute_result"
    }
   ],
   "source": [
    "# print column names\n",
    "df.columns"
   ]
  },
  {
   "cell_type": "code",
   "execution_count": 6,
   "metadata": {},
   "outputs": [
    {
     "data": {
      "text/plain": [
       "10"
      ]
     },
     "execution_count": 6,
     "metadata": {},
     "output_type": "execute_result"
    }
   ],
   "source": [
    "# print number of rows\n",
    "len(df)"
   ]
  },
  {
   "cell_type": "markdown",
   "metadata": {},
   "source": [
    "Sample python setup code can be found here: \n",
    "[Python Setup Code](../code/setup/wrds_setup.py)"
   ]
  },
  {
   "cell_type": "markdown",
   "metadata": {},
   "source": [
    "### <span style=\"color:purple\">Connect through R</span>\n",
    "\n",
    "To connect to the **WRDS** through R, you'll need to install the `RPostgres` library. \n",
    "\n",
    "(Note that the lines in the cell below are used to call R in this jupyter notebook.)"
   ]
  },
  {
   "cell_type": "code",
   "execution_count": 23,
   "metadata": {},
   "outputs": [
    {
     "name": "stdout",
     "output_type": "stream",
     "text": [
      "The rpy2.ipython extension is already loaded. To reload it, use:\n",
      "  %reload_ext rpy2.ipython\n"
     ]
    }
   ],
   "source": [
    "import rpy2\n",
    "%load_ext rpy2.ipython"
   ]
  },
  {
   "cell_type": "markdown",
   "metadata": {},
   "source": [
    "Within R, type:"
   ]
  },
  {
   "cell_type": "code",
   "execution_count": 24,
   "metadata": {},
   "outputs": [
    {
     "name": "stdout",
     "output_type": "stream",
     "text": [
      "NULL\n"
     ]
    }
   ],
   "source": [
    "%%R\n",
    "#install.packages(\"RPostgres\")"
   ]
  },
  {
   "cell_type": "markdown",
   "metadata": {},
   "source": [
    "Next, load the library."
   ]
  },
  {
   "cell_type": "code",
   "execution_count": 25,
   "metadata": {},
   "outputs": [],
   "source": [
    "%%R\n",
    "library(DBI)\n",
    "library(RPostgres)"
   ]
  },
  {
   "cell_type": "markdown",
   "metadata": {},
   "source": [
    "Finally, create a connection with the following:"
   ]
  },
  {
   "cell_type": "code",
   "execution_count": null,
   "metadata": {},
   "outputs": [],
   "source": [
    "%%R\n",
    "wrds <- dbConnect(\n",
    "   Postgres(),\n",
    "   host = 'wrds-pgdata.wharton.upenn.edu',\n",
    "   port = 9737,\n",
    "   dbname = 'wrds',\n",
    "   sslmode = 'require',\n",
    "   user = 'best-user-ever'\n",
    "   )\n",
    "\n",
    "# AT THIS POINT, EXPECT A DUO PUSH"
   ]
  },
  {
   "cell_type": "markdown",
   "metadata": {},
   "source": [
    "You can test your connection with:"
   ]
  },
  {
   "cell_type": "code",
   "execution_count": 27,
   "metadata": {},
   "outputs": [],
   "source": [
    "%%R\n",
    "res <- dbSendQuery(wrds, \"select * from crsp.dsf\")\n",
    "data <- dbFetch(res, n=10)\n"
   ]
  },
  {
   "cell_type": "code",
   "execution_count": 15,
   "metadata": {},
   "outputs": [
    {
     "name": "stdout",
     "output_type": "stream",
     "text": [
      " [1] \"cusip\"   \"permno\"  \"permco\"  \"issuno\"  \"hexcd\"   \"hsiccd\"  \"date\"   \n",
      " [8] \"bidlo\"   \"askhi\"   \"prc\"     \"vol\"     \"ret\"     \"bid\"     \"ask\"    \n",
      "[15] \"shrout\"  \"cfacpr\"  \"cfacshr\" \"openprc\" \"numtrd\"  \"retx\"   \n"
     ]
    }
   ],
   "source": [
    "%%R\n",
    "# print column names\n",
    "names(data)"
   ]
  },
  {
   "cell_type": "code",
   "execution_count": 16,
   "metadata": {},
   "outputs": [
    {
     "name": "stdout",
     "output_type": "stream",
     "text": [
      "[1] 10\n"
     ]
    }
   ],
   "source": [
    "%%R\n",
    "# print number of rows\n",
    "nrow(data)"
   ]
  },
  {
   "cell_type": "markdown",
   "metadata": {},
   "source": [
    "Sample R setup code can be found here: \n",
    "[R Setup Code](../code/setup/wrds_setup.R)"
   ]
  },
  {
   "cell_type": "markdown",
   "metadata": {},
   "source": [
    "### <span style=\"color:purple\">Lab 1</span>\n",
    ":::{admonition} Lab 1 - Create your pgpass file and connect to WRDS\n",
    "\n",
    "Either in R or Python: \n",
    "\n",
    "1. Create and set permissions on your own hidden `pgpass` file.\n",
    "\n",
    "2. Establish a `wrds` connection and grab the first 10 rows of data from \"company\" table in Compustat (\"comp\")\n",
    "\n",
    "3. Save the results as a csv file in your home directory and version control your file with git."
   ]
  }
 ],
 "metadata": {
  "kernelspec": {
   "display_name": "wrds25_env",
   "language": "python",
   "name": "python3"
  },
  "language_info": {
   "codemirror_mode": {
    "name": "ipython",
    "version": 3
   },
   "file_extension": ".py",
   "mimetype": "text/x-python",
   "name": "python",
   "nbconvert_exporter": "python",
   "pygments_lexer": "ipython3",
   "version": "3.10.18"
  }
 },
 "nbformat": 4,
 "nbformat_minor": 2
}