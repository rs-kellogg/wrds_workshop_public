{
 "cells": [
  {
   "cell_type": "markdown",
   "metadata": {},
   "source": [
    "# <span style=\"color:purple\">Explore Datasets and Tables</span>\n",
    "\n",
    "### <span style=\"color:purple\">On WRDS Online</span>"
   ]
  },
  {
   "cell_type": "markdown",
   "metadata": {},
   "source": [
    "On the WRDS website, you can explore databases and their corresponding tables by navigating to the \"Data Vendors\" page here: \n",
    "\n",
    "https://wrds-www.wharton.upenn.edu/pages/about/data-vendors/\n",
    "\n",
    "\n",
    "![Slide Image](images/wrds_vendors.png)"
   ]
  },
  {
   "cell_type": "markdown",
   "metadata": {},
   "source": [
    "In order to use the Data Dictionaries, you will have to know the vendor for your database. For instance, S&P Global provides the Compustat Executive Compensation database.  The Directors compensation table and its correponding variables can be found here: https://wrds-www.wharton.upenn.edu/data-dictionary/comp_execucomp/directorcomp/"
   ]
  },
  {
   "cell_type": "markdown",
   "metadata": {},
   "source": [
    "### <span style=\"color:purple\">In Python</span>"
   ]
  },
  {
   "cell_type": "markdown",
   "metadata": {},
   "source": [
    "The `wrds` package in python also allow you to explore the database and corresponding tables. Please install and load the wrds package along with any other packages you will use. If you would like to use our shared conda environment today, you can access it with: "
   ]
  },
  {
   "cell_type": "markdown",
   "metadata": {},
   "source": [
    "```\n",
    "module load mamba\n",
    "source activate /kellogg/software/envs/wrds25_env\n",
    "```"
   ]
  },
  {
   "cell_type": "code",
   "execution_count": 7,
   "metadata": {},
   "outputs": [],
   "source": [
    "# packages\n",
    "import wrds\n",
    "import pandas as pd"
   ]
  },
  {
   "cell_type": "markdown",
   "metadata": {},
   "source": [
    "Once you have a hidden pgpass file saved, you will not have to enter your crednetials the next time you login to the **WRDS** API in python."
   ]
  },
  {
   "cell_type": "code",
   "execution_count": null,
   "metadata": {},
   "outputs": [
    {
     "name": "stdout",
     "output_type": "stream",
     "text": [
      "Loading library list...\n",
      "Done\n"
     ]
    }
   ],
   "source": [
    "conn = wrds.Connection(wrds_username='best-user-ever')"
   ]
  },
  {
   "cell_type": "markdown",
   "metadata": {},
   "source": [
    "These are the available functions in the `wrds` package:¶"
   ]
  },
  {
   "cell_type": "markdown",
   "metadata": {},
   "source": [
    "* `conn.connection()` - setup\n",
    "* `conn.list_libraries()` - explore\n",
    "* `conn.list_tables()` - explore\n",
    "* `conn.describe_table()` - explore\n",
    "* `conn.get_table()` - queries\n",
    "* `conn.raw_sql()` - queries"
   ]
  },
  {
   "cell_type": "markdown",
   "metadata": {},
   "source": [
    "To get details on any of these functions."
   ]
  },
  {
   "cell_type": "code",
   "execution_count": 13,
   "metadata": {},
   "outputs": [
    {
     "name": "stdout",
     "output_type": "stream",
     "text": [
      "Help on method list_libraries in module wrds.sql:\n",
      "\n",
      "list_libraries() method of wrds.sql.Connection instance\n",
      "    Return all the libraries (schemas) the user can access.\n",
      "    \n",
      "    :rtype: list\n",
      "    \n",
      "    Usage::\n",
      "    >>> db.list_libraries()\n",
      "    ['aha', 'audit', 'block', 'boardex', ...]\n",
      "\n"
     ]
    }
   ],
   "source": [
    "help(conn.list_libraries)"
   ]
  },
  {
   "cell_type": "markdown",
   "metadata": {},
   "source": [
    "To get a list of all WRDS libraries or databases"
   ]
  },
  {
   "cell_type": "code",
   "execution_count": 17,
   "metadata": {},
   "outputs": [
    {
     "name": "stdout",
     "output_type": "stream",
     "text": [
      "['comp_snapshot', 'comp_urq', 'comph', 'compsamp', 'compsamp_all', 'compsamp_snapshot', 'compseg', 'compsnap', 'contrib', 'contrib_as_filed_financials', 'contrib_ceo_turnover', 'contrib_char_returns', 'contrib_corporate_culture', 'contrib_general', 'contrib_global_factor', 'contrib_green_returns', 'contrib_intangible_value', 'contrib_kpss', 'contrib_liquidity_taq', 'contrib_liva', 'crsp', 'crsp_a_ccm', 'crsp_a_indexes', 'crsp_a_stock', 'crsp_a_treasuries', 'crsp_m_ccm', 'crsp_m_indexes', 'crsp_m_stock', 'crsp_m_treasuries', 'crsp_q_ccm', 'crsp_q_indexes', 'crsp_q_mutualfunds', 'crsp_q_stock', 'crsp_q_treasuries', 'crspm']\n"
     ]
    }
   ],
   "source": [
    "libs = conn.list_libraries()[60:95]\n",
    "print(libs)"
   ]
  },
  {
   "cell_type": "markdown",
   "metadata": {},
   "source": [
    "To find all the tables in certain databases.  "
   ]
  },
  {
   "cell_type": "code",
   "execution_count": 23,
   "metadata": {},
   "outputs": [
    {
     "data": {
      "text/plain": [
       "['ob_additional_company_info_l',\n",
       " 'ob_all_addresses_l',\n",
       " 'ob_all_cur_shh_1st_level_l',\n",
       " 'ob_all_subs_first_level_l',\n",
       " 'ob_auditors_current_l']"
      ]
     },
     "execution_count": 23,
     "metadata": {},
     "output_type": "execute_result"
    }
   ],
   "source": [
    "conn.list_tables(library='bvd_orbis_large')[0:5]"
   ]
  },
  {
   "cell_type": "markdown",
   "metadata": {},
   "source": [
    "To find a description of a particular table in a database."
   ]
  },
  {
   "cell_type": "code",
   "execution_count": 18,
   "metadata": {},
   "outputs": [
    {
     "name": "stdout",
     "output_type": "stream",
     "text": [
      "Approximately 16803566 rows in bvd_orbis_large.ob_key_financials_l.\n"
     ]
    },
    {
     "data": {
      "text/html": [
       "<div>\n",
       "<style scoped>\n",
       "    .dataframe tbody tr th:only-of-type {\n",
       "        vertical-align: middle;\n",
       "    }\n",
       "\n",
       "    .dataframe tbody tr th {\n",
       "        vertical-align: top;\n",
       "    }\n",
       "\n",
       "    .dataframe thead th {\n",
       "        text-align: right;\n",
       "    }\n",
       "</style>\n",
       "<table border=\"1\" class=\"dataframe\">\n",
       "  <thead>\n",
       "    <tr style=\"text-align: right;\">\n",
       "      <th></th>\n",
       "      <th>name</th>\n",
       "      <th>nullable</th>\n",
       "      <th>type</th>\n",
       "      <th>comment</th>\n",
       "    </tr>\n",
       "  </thead>\n",
       "  <tbody>\n",
       "    <tr>\n",
       "      <th>0</th>\n",
       "      <td>bvdid</td>\n",
       "      <td>True</td>\n",
       "      <td>VARCHAR(50)</td>\n",
       "      <td>BVD ID NUMBER</td>\n",
       "    </tr>\n",
       "    <tr>\n",
       "      <th>1</th>\n",
       "      <td>category_of_company</td>\n",
       "      <td>True</td>\n",
       "      <td>VARCHAR(20)</td>\n",
       "      <td>CATEGORY OF THE COMPANY</td>\n",
       "    </tr>\n",
       "    <tr>\n",
       "      <th>2</th>\n",
       "      <td>ctryiso</td>\n",
       "      <td>True</td>\n",
       "      <td>VARCHAR(2)</td>\n",
       "      <td>COUNTRY ISO CODE</td>\n",
       "    </tr>\n",
       "    <tr>\n",
       "      <th>3</th>\n",
       "      <td>conscode</td>\n",
       "      <td>True</td>\n",
       "      <td>VARCHAR(2)</td>\n",
       "      <td>CONSOLIDATION CODE</td>\n",
       "    </tr>\n",
       "    <tr>\n",
       "      <th>4</th>\n",
       "      <td>filing_type</td>\n",
       "      <td>True</td>\n",
       "      <td>VARCHAR(25)</td>\n",
       "      <td>FILING TYPE</td>\n",
       "    </tr>\n",
       "    <tr>\n",
       "      <th>5</th>\n",
       "      <td>closdate</td>\n",
       "      <td>True</td>\n",
       "      <td>DATE</td>\n",
       "      <td>CLOSING DATE</td>\n",
       "    </tr>\n",
       "    <tr>\n",
       "      <th>6</th>\n",
       "      <td>closdate_year</td>\n",
       "      <td>True</td>\n",
       "      <td>DOUBLE PRECISION</td>\n",
       "      <td>Year part of CLOSING DATE (created from CLOSDA...</td>\n",
       "    </tr>\n",
       "    <tr>\n",
       "      <th>7</th>\n",
       "      <td>nr_months</td>\n",
       "      <td>True</td>\n",
       "      <td>VARCHAR(2)</td>\n",
       "      <td>NUMBER OF MONTHS</td>\n",
       "    </tr>\n",
       "    <tr>\n",
       "      <th>8</th>\n",
       "      <td>audstatus</td>\n",
       "      <td>True</td>\n",
       "      <td>VARCHAR(25)</td>\n",
       "      <td>AUDIT STATUS</td>\n",
       "    </tr>\n",
       "    <tr>\n",
       "      <th>9</th>\n",
       "      <td>accpractice</td>\n",
       "      <td>True</td>\n",
       "      <td>VARCHAR(25)</td>\n",
       "      <td>ACCOUNTING PRACTICE</td>\n",
       "    </tr>\n",
       "    <tr>\n",
       "      <th>10</th>\n",
       "      <td>source</td>\n",
       "      <td>True</td>\n",
       "      <td>VARCHAR(50)</td>\n",
       "      <td>SOURCE (FOR PUBLICLY QUOTED COMPANIES)</td>\n",
       "    </tr>\n",
       "    <tr>\n",
       "      <th>11</th>\n",
       "      <td>orig_units</td>\n",
       "      <td>True</td>\n",
       "      <td>VARCHAR(25)</td>\n",
       "      <td>ORIGINAL UNITS</td>\n",
       "    </tr>\n",
       "    <tr>\n",
       "      <th>12</th>\n",
       "      <td>orig_currency</td>\n",
       "      <td>True</td>\n",
       "      <td>VARCHAR(3)</td>\n",
       "      <td>ORIGINAL CURRENCY</td>\n",
       "    </tr>\n",
       "    <tr>\n",
       "      <th>13</th>\n",
       "      <td>exchrate</td>\n",
       "      <td>True</td>\n",
       "      <td>DOUBLE PRECISION</td>\n",
       "      <td>EXCHANGE RATE FROM ORIGINAL CURRENCY</td>\n",
       "    </tr>\n",
       "    <tr>\n",
       "      <th>14</th>\n",
       "      <td>opre</td>\n",
       "      <td>True</td>\n",
       "      <td>DOUBLE PRECISION</td>\n",
       "      <td>OPERATING REVENUE (TURNOVER)</td>\n",
       "    </tr>\n",
       "    <tr>\n",
       "      <th>15</th>\n",
       "      <td>plbt</td>\n",
       "      <td>True</td>\n",
       "      <td>DOUBLE PRECISION</td>\n",
       "      <td>P/L BEFORE TAX</td>\n",
       "    </tr>\n",
       "    <tr>\n",
       "      <th>16</th>\n",
       "      <td>pl</td>\n",
       "      <td>True</td>\n",
       "      <td>DOUBLE PRECISION</td>\n",
       "      <td>P/L FOR PERIOD (=NET INCOME)</td>\n",
       "    </tr>\n",
       "    <tr>\n",
       "      <th>17</th>\n",
       "      <td>cf</td>\n",
       "      <td>True</td>\n",
       "      <td>DOUBLE PRECISION</td>\n",
       "      <td>CASH FLOW</td>\n",
       "    </tr>\n",
       "    <tr>\n",
       "      <th>18</th>\n",
       "      <td>toas</td>\n",
       "      <td>True</td>\n",
       "      <td>DOUBLE PRECISION</td>\n",
       "      <td>TOTAL ASSETS</td>\n",
       "    </tr>\n",
       "    <tr>\n",
       "      <th>19</th>\n",
       "      <td>shfd</td>\n",
       "      <td>True</td>\n",
       "      <td>DOUBLE PRECISION</td>\n",
       "      <td>SHAREHOLDERS FUNDS</td>\n",
       "    </tr>\n",
       "    <tr>\n",
       "      <th>20</th>\n",
       "      <td>curr</td>\n",
       "      <td>True</td>\n",
       "      <td>DOUBLE PRECISION</td>\n",
       "      <td>CURRENT RATIO (X)</td>\n",
       "    </tr>\n",
       "    <tr>\n",
       "      <th>21</th>\n",
       "      <td>prma</td>\n",
       "      <td>True</td>\n",
       "      <td>DOUBLE PRECISION</td>\n",
       "      <td>PROFIT MARGIN (%)</td>\n",
       "    </tr>\n",
       "    <tr>\n",
       "      <th>22</th>\n",
       "      <td>rshf</td>\n",
       "      <td>True</td>\n",
       "      <td>DOUBLE PRECISION</td>\n",
       "      <td>ROE USING P/L BEFORE TAX (%)</td>\n",
       "    </tr>\n",
       "    <tr>\n",
       "      <th>23</th>\n",
       "      <td>rcem</td>\n",
       "      <td>True</td>\n",
       "      <td>DOUBLE PRECISION</td>\n",
       "      <td>ROCE USING P/L BEFORE TAX (%)</td>\n",
       "    </tr>\n",
       "    <tr>\n",
       "      <th>24</th>\n",
       "      <td>solr</td>\n",
       "      <td>True</td>\n",
       "      <td>DOUBLE PRECISION</td>\n",
       "      <td>SOLVENCY RATIO (ASSET BASED) (%)</td>\n",
       "    </tr>\n",
       "    <tr>\n",
       "      <th>25</th>\n",
       "      <td>_611</td>\n",
       "      <td>True</td>\n",
       "      <td>DOUBLE PRECISION</td>\n",
       "      <td>PRICE EARNING RATIO (X)</td>\n",
       "    </tr>\n",
       "    <tr>\n",
       "      <th>26</th>\n",
       "      <td>empl</td>\n",
       "      <td>True</td>\n",
       "      <td>DOUBLE PRECISION</td>\n",
       "      <td>NUMBER OF EMPLOYEES</td>\n",
       "    </tr>\n",
       "    <tr>\n",
       "      <th>27</th>\n",
       "      <td>astk_market_cap</td>\n",
       "      <td>True</td>\n",
       "      <td>DOUBLE PRECISION</td>\n",
       "      <td>MARKET CAPITALISATION (MIL)</td>\n",
       "    </tr>\n",
       "  </tbody>\n",
       "</table>\n",
       "</div>"
      ],
      "text/plain": [
       "                   name  nullable              type  \\\n",
       "0                 bvdid      True       VARCHAR(50)   \n",
       "1   category_of_company      True       VARCHAR(20)   \n",
       "2               ctryiso      True        VARCHAR(2)   \n",
       "3              conscode      True        VARCHAR(2)   \n",
       "4           filing_type      True       VARCHAR(25)   \n",
       "5              closdate      True              DATE   \n",
       "6         closdate_year      True  DOUBLE PRECISION   \n",
       "7             nr_months      True        VARCHAR(2)   \n",
       "8             audstatus      True       VARCHAR(25)   \n",
       "9           accpractice      True       VARCHAR(25)   \n",
       "10               source      True       VARCHAR(50)   \n",
       "11           orig_units      True       VARCHAR(25)   \n",
       "12        orig_currency      True        VARCHAR(3)   \n",
       "13             exchrate      True  DOUBLE PRECISION   \n",
       "14                 opre      True  DOUBLE PRECISION   \n",
       "15                 plbt      True  DOUBLE PRECISION   \n",
       "16                   pl      True  DOUBLE PRECISION   \n",
       "17                   cf      True  DOUBLE PRECISION   \n",
       "18                 toas      True  DOUBLE PRECISION   \n",
       "19                 shfd      True  DOUBLE PRECISION   \n",
       "20                 curr      True  DOUBLE PRECISION   \n",
       "21                 prma      True  DOUBLE PRECISION   \n",
       "22                 rshf      True  DOUBLE PRECISION   \n",
       "23                 rcem      True  DOUBLE PRECISION   \n",
       "24                 solr      True  DOUBLE PRECISION   \n",
       "25                 _611      True  DOUBLE PRECISION   \n",
       "26                 empl      True  DOUBLE PRECISION   \n",
       "27      astk_market_cap      True  DOUBLE PRECISION   \n",
       "\n",
       "                                              comment  \n",
       "0                                       BVD ID NUMBER  \n",
       "1                             CATEGORY OF THE COMPANY  \n",
       "2                                    COUNTRY ISO CODE  \n",
       "3                                  CONSOLIDATION CODE  \n",
       "4                                         FILING TYPE  \n",
       "5                                        CLOSING DATE  \n",
       "6   Year part of CLOSING DATE (created from CLOSDA...  \n",
       "7                                    NUMBER OF MONTHS  \n",
       "8                                        AUDIT STATUS  \n",
       "9                                 ACCOUNTING PRACTICE  \n",
       "10             SOURCE (FOR PUBLICLY QUOTED COMPANIES)  \n",
       "11                                     ORIGINAL UNITS  \n",
       "12                                  ORIGINAL CURRENCY  \n",
       "13               EXCHANGE RATE FROM ORIGINAL CURRENCY  \n",
       "14                       OPERATING REVENUE (TURNOVER)  \n",
       "15                                     P/L BEFORE TAX  \n",
       "16                       P/L FOR PERIOD (=NET INCOME)  \n",
       "17                                          CASH FLOW  \n",
       "18                                       TOTAL ASSETS  \n",
       "19                                 SHAREHOLDERS FUNDS  \n",
       "20                                  CURRENT RATIO (X)  \n",
       "21                                  PROFIT MARGIN (%)  \n",
       "22                       ROE USING P/L BEFORE TAX (%)  \n",
       "23                      ROCE USING P/L BEFORE TAX (%)  \n",
       "24                   SOLVENCY RATIO (ASSET BASED) (%)  \n",
       "25                            PRICE EARNING RATIO (X)  \n",
       "26                                NUMBER OF EMPLOYEES  \n",
       "27                        MARKET CAPITALISATION (MIL)  "
      ]
     },
     "execution_count": 18,
     "metadata": {},
     "output_type": "execute_result"
    }
   ],
   "source": [
    "conn.describe_table(library='bvd_orbis_large', table='ob_key_financials_l')"
   ]
  },
  {
   "cell_type": "markdown",
   "metadata": {},
   "source": [
    "### <span style=\"color:purple\">In R</span>\n",
    "\n",
    "These are the functions available in R: \n",
    "\n",
    "* `dbConnect()` – setup\n",
    "* `dbGetQuery(wrds, \"SELECT schema_name FROM information_schema.schemata\")` – explore libraries\n",
    "* `dbGetQuery(wrds, \"SELECT table_name FROM information_schema.tables WHERE table_schema='execcomp'\")` – explore tables\n",
    "* `dbGetQuery(wrds, \"SELECT column_name, data_type FROM information_schema.columns WHERE table_schema='execcomp' AND table_name='excomp'\")` – describe table\n",
    "* `dbGetQuery(wrds, \"SELECT * FROM execcomp.excomp LIMIT 5\")` – quick table query\n",
    "* `dbGetQuery(wrds, \"SELECT ...\")` – raw SQL query\n"
   ]
  },
  {
   "cell_type": "markdown",
   "metadata": {},
   "source": [
    "To find the description of the variables in a table in R: "
   ]
  },
  {
   "cell_type": "code",
   "execution_count": 33,
   "metadata": {},
   "outputs": [
    {
     "name": "stdout",
     "output_type": "stream",
     "text": [
      "The rpy2.ipython extension is already loaded. To reload it, use:\n",
      "  %reload_ext rpy2.ipython\n"
     ]
    }
   ],
   "source": [
    "import rpy2\n",
    "%load_ext rpy2.ipython"
   ]
  },
  {
   "cell_type": "code",
   "execution_count": null,
   "metadata": {},
   "outputs": [],
   "source": [
    "%%R\n",
    "library(DBI)\n",
    "library(RPostgres)\n",
    "\n",
    "wrds <- dbConnect(\n",
    "   Postgres(),\n",
    "   host = 'wrds-pgdata.wharton.upenn.edu',\n",
    "   port = 9737,\n",
    "   dbname = 'wrds',\n",
    "   sslmode = 'require',\n",
    "   user = 'best-user-ever',\n",
    "   )"
   ]
  },
  {
   "cell_type": "code",
   "execution_count": 35,
   "metadata": {},
   "outputs": [
    {
     "name": "stdout",
     "output_type": "stream",
     "text": [
      "           column_name         data_type is_nullable\n",
      "1                bvdid character varying         YES\n",
      "2  category_of_company character varying         YES\n",
      "3              ctryiso character varying         YES\n",
      "4             conscode character varying         YES\n",
      "5          filing_type character varying         YES\n",
      "6             closdate              date         YES\n",
      "7        closdate_year  double precision         YES\n",
      "8            nr_months character varying         YES\n",
      "9            audstatus character varying         YES\n",
      "10         accpractice character varying         YES\n",
      "11              source character varying         YES\n",
      "12          orig_units character varying         YES\n",
      "13       orig_currency character varying         YES\n",
      "14            exchrate  double precision         YES\n",
      "15                opre  double precision         YES\n",
      "16                plbt  double precision         YES\n",
      "17                  pl  double precision         YES\n",
      "18                  cf  double precision         YES\n",
      "19                toas  double precision         YES\n",
      "20                shfd  double precision         YES\n",
      "21                curr  double precision         YES\n",
      "22                prma  double precision         YES\n",
      "23                rshf  double precision         YES\n",
      "24                rcem  double precision         YES\n",
      "25                solr  double precision         YES\n",
      "26                _611  double precision         YES\n",
      "27                empl  double precision         YES\n",
      "28     astk_market_cap  double precision         YES\n"
     ]
    }
   ],
   "source": [
    "%%R\n",
    "# Create SQL query\n",
    "sql <- paste0(\"\n",
    "  SELECT column_name, data_type, is_nullable\n",
    "  FROM information_schema.columns\n",
    "  WHERE table_schema = 'bvd_orbis_large'\n",
    "    AND table_name = 'ob_key_financials_l'\n",
    "  ORDER BY ordinal_position;\n",
    "\")\n",
    "\n",
    "# Execute the query\n",
    "desc <- dbGetQuery(wrds, sql)\n",
    "\n",
    "print(desc)"
   ]
  },
  {
   "cell_type": "markdown",
   "metadata": {},
   "source": [
    "### <span style=\"color:purple\">Lab 2</span>\n",
    ":::{admonition} Lab 2 - Obtain Directors Compensation Table\n",
    "\n",
    "Either in R or Python: \n",
    "\n",
    "1. Obtain the variable list for the Director's Compensation Table in Compustat\n",
    "\n",
    "2. Explore the variable list for any table you like\n"
   ]
  },
  {
   "cell_type": "markdown",
   "metadata": {},
   "source": [
    "```{dropdown} Lab 2 Answer Key\n",
    ":::{admonition} \n",
    "\n",
    "[Python Code](../code/lab2/answer_key/lab2_answer.py)\n",
    "\n",
    "[R Code](../code/lab2/answer_key/lab2_answer.R)\n",
    ":::"
   ]
  },
  {
   "cell_type": "markdown",
   "metadata": {},
   "source": []
  },
  {
   "cell_type": "markdown",
   "metadata": {},
   "source": []
  }
 ],
 "metadata": {
  "kernelspec": {
   "display_name": "wrds25_env",
   "language": "python",
   "name": "python3"
  },
  "language_info": {
   "codemirror_mode": {
    "name": "ipython",
    "version": 3
   },
   "file_extension": ".py",
   "mimetype": "text/x-python",
   "name": "python",
   "nbconvert_exporter": "python",
   "pygments_lexer": "ipython3",
   "version": "3.10.18"
  }
 },
 "nbformat": 4,
 "nbformat_minor": 2
}