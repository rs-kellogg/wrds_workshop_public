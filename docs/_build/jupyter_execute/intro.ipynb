{
 "cells": [
  {
   "cell_type": "markdown",
   "id": "02ddecdc",
   "metadata": {
    "slideshow": {
     "slide_type": "slide"
    }
   },
   "source": [
    "# Contents\n",
    "\n",
    "### *<span style=\"color:purple\"><em>Scripted WRDS Access</em></span>*\n",
    "\n",
    "This session will show you how to programatically obtain data from WRDS using Python or R.\n",
    "\n",
    "In this session, we'll cover:\n",
    "\n",
    "- (1) Setting up your access credentials\n",
    "- (2) Exploring Databases and Tables \n",
    "- (3) Running a Sample Project\n",
    "\n",
    "\n",
    "![Slide Image](images/roadmap.png)"
   ]
  },
  {
   "cell_type": "markdown",
   "id": "5635ab4c",
   "metadata": {
    "slideshow": {
     "slide_type": "slide"
    }
   },
   "source": [
    "#### Access Options\n",
    ":::{admonition} Access Options\n",
    "\n",
    "Wharton Research Data Services (**WRDS**) offers a multitude of ways to access the datasets they host, such as:\n",
    "\n",
    "* Web Query Forms through the [Online Platform](https://wrds-www.wharton.upenn.edu)\n",
    "* [WRDS SAS Studio](https://wrds-cloud.wharton.upenn.edu/SASStudio/index?locale=en_US) \n",
    "* [WRDS R Studio](https://wrds-rstudio.wharton.upenn.edu/auth-sign-in?appUri=%2F) \n",
    "* [WRDS JupyterHub](https://wrds-jupyter.wharton.upenn.edu/hub/login?next=%2Fhub%2F) \n",
    "* [The WRDS Cloud](https://wrds-www.wharton.upenn.edu/pages/grid-items/accessing-wrds-cloud/)\n",
    "* Various package libraries that allow you to connect to WRDS from your computer\n",
    "\n",
    "To seamlessly integrate your **WRDS** queries into your research workflow, you can access the **WRDS** API from Python with the [`wrds`](https://pypi.org/project/wrds/) package, or from R with the [`RPostgres`](https://cran.r-project.org/web/packages/RPostgres/index.html) library.\n",
    "\n",
    "Both of these tool will enable you to connect to **WRDS** anywhere including **KLC** or your own computer. "
   ]
  },
  {
   "cell_type": "markdown",
   "id": "ea6fe8d1",
   "metadata": {
    "slideshow": {
     "slide_type": "slide"
    }
   },
   "source": [
    "#### WRDS Workflow\n",
    ":::{admonition} WRDS Workflow\n",
    "\n",
    "Since different instutions have different licensing rights to WRDS datasets, and the actual datasets are updated constantly, we highly recommend saving a version of the dataset you use for your records.\n",
    "\n",
    "\n",
    "![Slide Image](images/workflow.png)\n"
   ]
  },
  {
   "cell_type": "markdown",
   "id": "6911d096",
   "metadata": {
    "vscode": {
     "languageId": "plaintext"
    }
   },
   "source": []
  }
 ],
 "metadata": {
  "language_info": {
   "name": "python"
  }
 },
 "nbformat": 4,
 "nbformat_minor": 5
}